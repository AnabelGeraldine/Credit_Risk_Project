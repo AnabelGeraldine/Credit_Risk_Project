{
 "cells": [
  {
   "cell_type": "markdown",
   "id": "bb7f17e9",
   "metadata": {},
   "source": [
    "## Anabel Research Dump"
   ]
  },
  {
   "cell_type": "code",
   "execution_count": null,
   "id": "66a7533e",
   "metadata": {},
   "outputs": [],
   "source": [
    "# Put your code in this one"
   ]
  }
 ],
 "metadata": {
  "kernelspec": {
   "display_name": "Python 3 (ipykernel)",
   "language": "python",
   "name": "python3"
  },
  "language_info": {
   "codemirror_mode": {
    "name": "ipython",
    "version": 3
   },
   "file_extension": ".py",
   "mimetype": "text/x-python",
   "name": "python",
   "nbconvert_exporter": "python",
   "pygments_lexer": "ipython3",
   "version": "3.9.12"
  }
 },
 "nbformat": 4,
 "nbformat_minor": 5
}
